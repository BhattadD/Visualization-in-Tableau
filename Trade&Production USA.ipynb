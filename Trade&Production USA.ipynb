{
 "cells": [
  {
   "cell_type": "code",
   "execution_count": 1,
   "metadata": {
    "collapsed": true
   },
   "outputs": [],
   "source": [
    "import pandas as pd\n",
    "import numpy as np"
   ]
  },
  {
   "cell_type": "markdown",
   "metadata": {},
   "source": [
    "## Export and Import values dataset"
   ]
  },
  {
   "cell_type": "code",
   "execution_count": 2,
   "metadata": {
    "collapsed": true
   },
   "outputs": [],
   "source": [
    "# Loading the dataset\n",
    "trade_df=pd.read_csv(\"year_origin_destination_hs07_4.tsv\", sep=\"\\t\")"
   ]
  },
  {
   "cell_type": "code",
   "execution_count": 3,
   "metadata": {},
   "outputs": [
    {
     "data": {
      "text/html": [
       "<div>\n",
       "<style>\n",
       "    .dataframe thead tr:only-child th {\n",
       "        text-align: right;\n",
       "    }\n",
       "\n",
       "    .dataframe thead th {\n",
       "        text-align: left;\n",
       "    }\n",
       "\n",
       "    .dataframe tbody tr th {\n",
       "        vertical-align: top;\n",
       "    }\n",
       "</style>\n",
       "<table border=\"1\" class=\"dataframe\">\n",
       "  <thead>\n",
       "    <tr style=\"text-align: right;\">\n",
       "      <th></th>\n",
       "      <th>year</th>\n",
       "      <th>origin</th>\n",
       "      <th>dest</th>\n",
       "      <th>hs07</th>\n",
       "      <th>export_val</th>\n",
       "      <th>import_val</th>\n",
       "    </tr>\n",
       "  </thead>\n",
       "  <tbody>\n",
       "    <tr>\n",
       "      <th>0</th>\n",
       "      <td>2008</td>\n",
       "      <td>ago</td>\n",
       "      <td>civ</td>\n",
       "      <td>902</td>\n",
       "      <td>NaN</td>\n",
       "      <td>3053887.0</td>\n",
       "    </tr>\n",
       "    <tr>\n",
       "      <th>1</th>\n",
       "      <td>2008</td>\n",
       "      <td>ago</td>\n",
       "      <td>civ</td>\n",
       "      <td>1511</td>\n",
       "      <td>NaN</td>\n",
       "      <td>31017.0</td>\n",
       "    </tr>\n",
       "    <tr>\n",
       "      <th>2</th>\n",
       "      <td>2008</td>\n",
       "      <td>ago</td>\n",
       "      <td>civ</td>\n",
       "      <td>1704</td>\n",
       "      <td>NaN</td>\n",
       "      <td>56428.0</td>\n",
       "    </tr>\n",
       "    <tr>\n",
       "      <th>3</th>\n",
       "      <td>2008</td>\n",
       "      <td>ago</td>\n",
       "      <td>civ</td>\n",
       "      <td>2710</td>\n",
       "      <td>932121.72</td>\n",
       "      <td>NaN</td>\n",
       "    </tr>\n",
       "    <tr>\n",
       "      <th>4</th>\n",
       "      <td>2008</td>\n",
       "      <td>ago</td>\n",
       "      <td>civ</td>\n",
       "      <td>2711</td>\n",
       "      <td>492622.69</td>\n",
       "      <td>NaN</td>\n",
       "    </tr>\n",
       "  </tbody>\n",
       "</table>\n",
       "</div>"
      ],
      "text/plain": [
       "   year origin dest  hs07  export_val  import_val\n",
       "0  2008    ago  civ   902         NaN   3053887.0\n",
       "1  2008    ago  civ  1511         NaN     31017.0\n",
       "2  2008    ago  civ  1704         NaN     56428.0\n",
       "3  2008    ago  civ  2710   932121.72         NaN\n",
       "4  2008    ago  civ  2711   492622.69         NaN"
      ]
     },
     "execution_count": 3,
     "metadata": {},
     "output_type": "execute_result"
    }
   ],
   "source": [
    "trade_df.head()"
   ]
  },
  {
   "cell_type": "code",
   "execution_count": 4,
   "metadata": {},
   "outputs": [
    {
     "data": {
      "text/plain": [
       "array([2008, 2009, 2010, 2011, 2012, 2013, 2014, 2015, 2016, 2017])"
      ]
     },
     "execution_count": 4,
     "metadata": {},
     "output_type": "execute_result"
    }
   ],
   "source": [
    "trade_df['year'].unique()"
   ]
  },
  {
   "cell_type": "code",
   "execution_count": 6,
   "metadata": {
    "scrolled": true
   },
   "outputs": [
    {
     "data": {
      "text/plain": [
       "array(['ago', 'bdi', 'ben', 'bfa', 'caf', 'civ', 'cmr', 'cod', 'cog',\n",
       "       'com', 'cpv', 'dji', 'dza', 'egy', 'eri', 'esh', 'eth', 'gab',\n",
       "       'gha', 'gin', 'gmb', 'gnb', 'gnq', 'ken', 'lbr', 'lby', 'mar',\n",
       "       'mdg', 'mli', 'moz', 'mrt', 'mus', 'mwi', 'ner', 'nga', 'rwa',\n",
       "       'sdn', 'sen', 'shn', 'sle', 'som', 'stp', 'syc', 'tcd', 'tgo',\n",
       "       'tun', 'tza', 'uga', 'xxa', 'zaf', 'zmb', 'zwe', 'ata', 'atf',\n",
       "       'bvt', 'hmd', 'sgs', 'afg', 'are', 'arm', 'aze', 'bgd', 'bhr',\n",
       "       'brn', 'btn', 'cck', 'chn', 'cxr', 'cyp', 'geo', 'hkg', 'idn',\n",
       "       'ind', 'iot', 'irn', 'irq', 'isr', 'jor', 'jpn', 'kaz', 'kgz',\n",
       "       'khm', 'kor', 'kwt', 'lao', 'lbn', 'lka', 'mac', 'mdv', 'mmr',\n",
       "       'mng', 'mys', 'npl', 'omn', 'pak', 'phl', 'prk', 'pse', 'qat',\n",
       "       'sau', 'sgp', 'syr', 'tha', 'tjk', 'tkm', 'tls', 'tur', 'uzb',\n",
       "       'vnm', 'xxb', 'yem', 'alb', 'and', 'aut', 'bgr', 'bih', 'blr',\n",
       "       'blx', 'che', 'cze', 'deu', 'dnk', 'esp', 'est', 'fin', 'fra',\n",
       "       'gbr', 'gib', 'grc', 'hrv', 'hun', 'irl', 'isl', 'ita', 'ltu',\n",
       "       'lva', 'mda', 'mkd', 'mlt', 'mne', 'nld', 'nor', 'pol', 'prt',\n",
       "       'rou', 'rus', 'smr', 'srb', 'svk', 'svn', 'swe', 'ukr', 'vat',\n",
       "       'xxc', 'abw', 'aia', 'ant', 'atg', 'bhs', 'blz', 'bmu', 'brb',\n",
       "       'can', 'cri', 'cub', 'cym', 'dma', 'dom', 'grd', 'grl', 'gtm',\n",
       "       'hnd', 'hti', 'jam', 'kna', 'lca', 'mex', 'msr', 'nic', 'pan',\n",
       "       'slv', 'spm', 'tca', 'tto', 'usa', 'vct', 'vgb', 'xxd', 'asm',\n",
       "       'aus', 'cok', 'fji', 'fsm', 'gum', 'kir', 'mhl', 'mnp', 'ncl',\n",
       "       'nfk', 'niu', 'nru', 'nzl', 'pcn', 'plw', 'png', 'pyf', 'slb',\n",
       "       'tkl', 'ton', 'tuv', 'vut', 'wlf', 'wsm', 'arg', 'bol', 'bra',\n",
       "       'chl', 'col', 'ecu', 'flk', 'guy', 'per', 'pry', 'sur', 'ury',\n",
       "       'ven', 'xxf', 'xxg', 'xxh', 'xxi', 'xxe', 'bes', 'cuw', 'maf',\n",
       "       'ssd', 'blm'], dtype=object)"
      ]
     },
     "execution_count": 6,
     "metadata": {},
     "output_type": "execute_result"
    }
   ],
   "source": [
    "trade_df['origin'].unique()"
   ]
  },
  {
   "cell_type": "markdown",
   "metadata": {},
   "source": [
    "## Keeping only transactions Exported from USA or Imported to USA\n",
    "We are focusing on trade of USA only"
   ]
  },
  {
   "cell_type": "code",
   "execution_count": 7,
   "metadata": {
    "collapsed": true
   },
   "outputs": [],
   "source": [
    "trade_cleaned=trade_df[(trade_df['origin']=='usa') | (trade_df['dest']=='usa')]"
   ]
  },
  {
   "cell_type": "code",
   "execution_count": 8,
   "metadata": {},
   "outputs": [
    {
     "data": {
      "text/html": [
       "<div>\n",
       "<style>\n",
       "    .dataframe thead tr:only-child th {\n",
       "        text-align: right;\n",
       "    }\n",
       "\n",
       "    .dataframe thead th {\n",
       "        text-align: left;\n",
       "    }\n",
       "\n",
       "    .dataframe tbody tr th {\n",
       "        vertical-align: top;\n",
       "    }\n",
       "</style>\n",
       "<table border=\"1\" class=\"dataframe\">\n",
       "  <thead>\n",
       "    <tr style=\"text-align: right;\">\n",
       "      <th></th>\n",
       "      <th>year</th>\n",
       "      <th>origin</th>\n",
       "      <th>dest</th>\n",
       "      <th>hs07</th>\n",
       "      <th>export_val</th>\n",
       "      <th>import_val</th>\n",
       "    </tr>\n",
       "  </thead>\n",
       "  <tbody>\n",
       "    <tr>\n",
       "      <th>9173</th>\n",
       "      <td>2008</td>\n",
       "      <td>ago</td>\n",
       "      <td>usa</td>\n",
       "      <td>202</td>\n",
       "      <td>NaN</td>\n",
       "      <td>2471022.0</td>\n",
       "    </tr>\n",
       "    <tr>\n",
       "      <th>9174</th>\n",
       "      <td>2008</td>\n",
       "      <td>ago</td>\n",
       "      <td>usa</td>\n",
       "      <td>203</td>\n",
       "      <td>NaN</td>\n",
       "      <td>2741730.0</td>\n",
       "    </tr>\n",
       "    <tr>\n",
       "      <th>9175</th>\n",
       "      <td>2008</td>\n",
       "      <td>ago</td>\n",
       "      <td>usa</td>\n",
       "      <td>206</td>\n",
       "      <td>NaN</td>\n",
       "      <td>4842336.0</td>\n",
       "    </tr>\n",
       "    <tr>\n",
       "      <th>9176</th>\n",
       "      <td>2008</td>\n",
       "      <td>ago</td>\n",
       "      <td>usa</td>\n",
       "      <td>207</td>\n",
       "      <td>NaN</td>\n",
       "      <td>109095046.0</td>\n",
       "    </tr>\n",
       "    <tr>\n",
       "      <th>9177</th>\n",
       "      <td>2008</td>\n",
       "      <td>ago</td>\n",
       "      <td>usa</td>\n",
       "      <td>210</td>\n",
       "      <td>NaN</td>\n",
       "      <td>148422.0</td>\n",
       "    </tr>\n",
       "  </tbody>\n",
       "</table>\n",
       "</div>"
      ],
      "text/plain": [
       "      year origin dest  hs07  export_val   import_val\n",
       "9173  2008    ago  usa   202         NaN    2471022.0\n",
       "9174  2008    ago  usa   203         NaN    2741730.0\n",
       "9175  2008    ago  usa   206         NaN    4842336.0\n",
       "9176  2008    ago  usa   207         NaN  109095046.0\n",
       "9177  2008    ago  usa   210         NaN     148422.0"
      ]
     },
     "execution_count": 8,
     "metadata": {},
     "output_type": "execute_result"
    }
   ],
   "source": [
    "trade_cleaned.head()"
   ]
  },
  {
   "cell_type": "markdown",
   "metadata": {},
   "source": [
    "# Checking for Null values"
   ]
  },
  {
   "cell_type": "code",
   "execution_count": 11,
   "metadata": {},
   "outputs": [
    {
     "data": {
      "text/plain": [
       "year          False\n",
       "origin        False\n",
       "dest          False\n",
       "hs07          False\n",
       "export_val    False\n",
       "import_val    False\n",
       "dtype: bool"
      ]
     },
     "execution_count": 11,
     "metadata": {},
     "output_type": "execute_result"
    }
   ],
   "source": [
    "#Checking if all values in a column is Null\n",
    "trade_cleaned.isnull().all()"
   ]
  },
  {
   "cell_type": "code",
   "execution_count": 9,
   "metadata": {},
   "outputs": [
    {
     "data": {
      "text/plain": [
       "year               0\n",
       "origin             0\n",
       "dest               0\n",
       "hs07               0\n",
       "export_val    300679\n",
       "import_val    300679\n",
       "dtype: int64"
      ]
     },
     "execution_count": 9,
     "metadata": {},
     "output_type": "execute_result"
    }
   ],
   "source": [
    "trade_cleaned.isnull().sum()"
   ]
  },
  {
   "cell_type": "markdown",
   "metadata": {},
   "source": [
    "Only the import and export values are Null, so we need not do any further data cleaning"
   ]
  },
  {
   "cell_type": "code",
   "execution_count": 10,
   "metadata": {},
   "outputs": [
    {
     "data": {
      "text/plain": [
       "(1035252, 6)"
      ]
     },
     "execution_count": 10,
     "metadata": {},
     "output_type": "execute_result"
    }
   ],
   "source": [
    "trade_cleaned.shape"
   ]
  },
  {
   "cell_type": "markdown",
   "metadata": {},
   "source": [
    "### Are there rows with both export and export values NULL ? "
   ]
  },
  {
   "cell_type": "code",
   "execution_count": 12,
   "metadata": {},
   "outputs": [
    {
     "data": {
      "text/html": [
       "<div>\n",
       "<style>\n",
       "    .dataframe thead tr:only-child th {\n",
       "        text-align: right;\n",
       "    }\n",
       "\n",
       "    .dataframe thead th {\n",
       "        text-align: left;\n",
       "    }\n",
       "\n",
       "    .dataframe tbody tr th {\n",
       "        vertical-align: top;\n",
       "    }\n",
       "</style>\n",
       "<table border=\"1\" class=\"dataframe\">\n",
       "  <thead>\n",
       "    <tr style=\"text-align: right;\">\n",
       "      <th></th>\n",
       "      <th>year</th>\n",
       "      <th>origin</th>\n",
       "      <th>dest</th>\n",
       "      <th>hs07</th>\n",
       "      <th>export_val</th>\n",
       "      <th>import_val</th>\n",
       "    </tr>\n",
       "  </thead>\n",
       "  <tbody>\n",
       "  </tbody>\n",
       "</table>\n",
       "</div>"
      ],
      "text/plain": [
       "Empty DataFrame\n",
       "Columns: [year, origin, dest, hs07, export_val, import_val]\n",
       "Index: []"
      ]
     },
     "execution_count": 12,
     "metadata": {},
     "output_type": "execute_result"
    }
   ],
   "source": [
    "trade_cleaned[(trade_cleaned['export_val'].isnull()) & (trade_cleaned['import_val'].isnull())]"
   ]
  },
  {
   "cell_type": "markdown",
   "metadata": {},
   "source": [
    "## Getting country names from Country codes"
   ]
  },
  {
   "cell_type": "code",
   "execution_count": 2,
   "metadata": {
    "collapsed": true
   },
   "outputs": [],
   "source": [
    "import pycountry"
   ]
  },
  {
   "cell_type": "code",
   "execution_count": 3,
   "metadata": {},
   "outputs": [
    {
     "data": {
      "text/plain": [
       "[u'ABW',\n",
       " u'AFG',\n",
       " u'AGO',\n",
       " u'AIA',\n",
       " u'ALA',\n",
       " u'ALB',\n",
       " u'AND',\n",
       " u'ARE',\n",
       " u'ARG',\n",
       " u'ARM',\n",
       " u'ASM',\n",
       " u'ATA',\n",
       " u'ATF',\n",
       " u'ATG',\n",
       " u'AUS',\n",
       " u'AUT',\n",
       " u'AZE',\n",
       " u'BDI',\n",
       " u'BEL',\n",
       " u'BEN',\n",
       " u'BES',\n",
       " u'BFA',\n",
       " u'BGD',\n",
       " u'BGR',\n",
       " u'BHR',\n",
       " u'BHS',\n",
       " u'BIH',\n",
       " u'BLM',\n",
       " u'BLR',\n",
       " u'BLZ',\n",
       " u'BMU',\n",
       " u'BOL',\n",
       " u'BRA',\n",
       " u'BRB',\n",
       " u'BRN',\n",
       " u'BTN',\n",
       " u'BVT',\n",
       " u'BWA',\n",
       " u'CAF',\n",
       " u'CAN',\n",
       " u'CCK',\n",
       " u'CHE',\n",
       " u'CHL',\n",
       " u'CHN',\n",
       " u'CIV',\n",
       " u'CMR',\n",
       " u'COD',\n",
       " u'COG',\n",
       " u'COK',\n",
       " u'COL',\n",
       " u'COM',\n",
       " u'CPV',\n",
       " u'CRI',\n",
       " u'CUB',\n",
       " u'CUW',\n",
       " u'CXR',\n",
       " u'CYM',\n",
       " u'CYP',\n",
       " u'CZE',\n",
       " u'DEU',\n",
       " u'DJI',\n",
       " u'DMA',\n",
       " u'DNK',\n",
       " u'DOM',\n",
       " u'DZA',\n",
       " u'ECU',\n",
       " u'EGY',\n",
       " u'ERI',\n",
       " u'ESH',\n",
       " u'ESP',\n",
       " u'EST',\n",
       " u'ETH',\n",
       " u'FIN',\n",
       " u'FJI',\n",
       " u'FLK',\n",
       " u'FRA',\n",
       " u'FRO',\n",
       " u'FSM',\n",
       " u'GAB',\n",
       " u'GBR',\n",
       " u'GEO',\n",
       " u'GGY',\n",
       " u'GHA',\n",
       " u'GIB',\n",
       " u'GIN',\n",
       " u'GLP',\n",
       " u'GMB',\n",
       " u'GNB',\n",
       " u'GNQ',\n",
       " u'GRC',\n",
       " u'GRD',\n",
       " u'GRL',\n",
       " u'GTM',\n",
       " u'GUF',\n",
       " u'GUM',\n",
       " u'GUY',\n",
       " u'HKG',\n",
       " u'HMD',\n",
       " u'HND',\n",
       " u'HRV',\n",
       " u'HTI',\n",
       " u'HUN',\n",
       " u'IDN',\n",
       " u'IMN',\n",
       " u'IND',\n",
       " u'IOT',\n",
       " u'IRL',\n",
       " u'IRN',\n",
       " u'IRQ',\n",
       " u'ISL',\n",
       " u'ISR',\n",
       " u'ITA',\n",
       " u'JAM',\n",
       " u'JEY',\n",
       " u'JOR',\n",
       " u'JPN',\n",
       " u'KAZ',\n",
       " u'KEN',\n",
       " u'KGZ',\n",
       " u'KHM',\n",
       " u'KIR',\n",
       " u'KNA',\n",
       " u'KOR',\n",
       " u'KWT',\n",
       " u'LAO',\n",
       " u'LBN',\n",
       " u'LBR',\n",
       " u'LBY',\n",
       " u'LCA',\n",
       " u'LIE',\n",
       " u'LKA',\n",
       " u'LSO',\n",
       " u'LTU',\n",
       " u'LUX',\n",
       " u'LVA',\n",
       " u'MAC',\n",
       " u'MAF',\n",
       " u'MAR',\n",
       " u'MCO',\n",
       " u'MDA',\n",
       " u'MDG',\n",
       " u'MDV',\n",
       " u'MEX',\n",
       " u'MHL',\n",
       " u'MKD',\n",
       " u'MLI',\n",
       " u'MLT',\n",
       " u'MMR',\n",
       " u'MNE',\n",
       " u'MNG',\n",
       " u'MNP',\n",
       " u'MOZ',\n",
       " u'MRT',\n",
       " u'MSR',\n",
       " u'MTQ',\n",
       " u'MUS',\n",
       " u'MWI',\n",
       " u'MYS',\n",
       " u'MYT',\n",
       " u'NAM',\n",
       " u'NCL',\n",
       " u'NER',\n",
       " u'NFK',\n",
       " u'NGA',\n",
       " u'NIC',\n",
       " u'NIU',\n",
       " u'NLD',\n",
       " u'NOR',\n",
       " u'NPL',\n",
       " u'NRU',\n",
       " u'NZL',\n",
       " u'OMN',\n",
       " u'PAK',\n",
       " u'PAN',\n",
       " u'PCN',\n",
       " u'PER',\n",
       " u'PHL',\n",
       " u'PLW',\n",
       " u'PNG',\n",
       " u'POL',\n",
       " u'PRI',\n",
       " u'PRK',\n",
       " u'PRT',\n",
       " u'PRY',\n",
       " u'PSE',\n",
       " u'PYF',\n",
       " u'QAT',\n",
       " u'REU',\n",
       " u'ROU',\n",
       " u'RUS',\n",
       " u'RWA',\n",
       " u'SAU',\n",
       " u'SDN',\n",
       " u'SEN',\n",
       " u'SGP',\n",
       " u'SGS',\n",
       " u'SHN',\n",
       " u'SJM',\n",
       " u'SLB',\n",
       " u'SLE',\n",
       " u'SLV',\n",
       " u'SMR',\n",
       " u'SOM',\n",
       " u'SPM',\n",
       " u'SRB',\n",
       " u'SSD',\n",
       " u'STP',\n",
       " u'SUR',\n",
       " u'SVK',\n",
       " u'SVN',\n",
       " u'SWE',\n",
       " u'SWZ',\n",
       " u'SXM',\n",
       " u'SYC',\n",
       " u'SYR',\n",
       " u'TCA',\n",
       " u'TCD',\n",
       " u'TGO',\n",
       " u'THA',\n",
       " u'TJK',\n",
       " u'TKL',\n",
       " u'TKM',\n",
       " u'TLS',\n",
       " u'TON',\n",
       " u'TTO',\n",
       " u'TUN',\n",
       " u'TUR',\n",
       " u'TUV',\n",
       " u'TWN',\n",
       " u'TZA',\n",
       " u'UGA',\n",
       " u'UKR',\n",
       " u'UMI',\n",
       " u'URY',\n",
       " u'USA',\n",
       " u'UZB',\n",
       " u'VAT',\n",
       " u'VCT',\n",
       " u'VEN',\n",
       " u'VGB',\n",
       " u'VIR',\n",
       " u'VNM',\n",
       " u'VUT',\n",
       " u'WLF',\n",
       " u'WSM',\n",
       " u'YEM',\n",
       " u'ZAF',\n",
       " u'ZMB',\n",
       " u'ZWE']"
      ]
     },
     "execution_count": 3,
     "metadata": {},
     "output_type": "execute_result"
    }
   ],
   "source": [
    "#country codes are all in Upper case\n",
    "list_alpha_3 = [i.alpha_3 for i in list(pycountry.countries)] \n",
    "list_alpha_3"
   ]
  },
  {
   "cell_type": "code",
   "execution_count": 11,
   "metadata": {
    "collapsed": true
   },
   "outputs": [],
   "source": [
    "#Function that returns country names, given the country code \n",
    "def org_country_names(code):\n",
    "    if(code in list_alpha_3):\n",
    "        return pycountry.countries.get(alpha_3=code).name\n",
    "    else:\n",
    "        return 'Invalid code'"
   ]
  },
  {
   "cell_type": "code",
   "execution_count": 12,
   "metadata": {},
   "outputs": [
    {
     "name": "stdout",
     "output_type": "stream",
     "text": [
      "Angola\n"
     ]
    }
   ],
   "source": [
    "print org_country_names('AGO')"
   ]
  },
  {
   "cell_type": "code",
   "execution_count": 13,
   "metadata": {},
   "outputs": [
    {
     "name": "stderr",
     "output_type": "stream",
     "text": [
      "/anaconda2/lib/python2.7/site-packages/ipykernel_launcher.py:1: SettingWithCopyWarning: \n",
      "A value is trying to be set on a copy of a slice from a DataFrame.\n",
      "Try using .loc[row_indexer,col_indexer] = value instead\n",
      "\n",
      "See the caveats in the documentation: http://pandas.pydata.org/pandas-docs/stable/indexing.html#indexing-view-versus-copy\n",
      "  \"\"\"Entry point for launching an IPython kernel.\n",
      "/anaconda2/lib/python2.7/site-packages/ipykernel_launcher.py:2: SettingWithCopyWarning: \n",
      "A value is trying to be set on a copy of a slice from a DataFrame.\n",
      "Try using .loc[row_indexer,col_indexer] = value instead\n",
      "\n",
      "See the caveats in the documentation: http://pandas.pydata.org/pandas-docs/stable/indexing.html#indexing-view-versus-copy\n",
      "  \n"
     ]
    }
   ],
   "source": [
    "# Changing the Origin and Destination country codes to country names\n",
    "trade_cleaned['Origin_country']=trade_cleaned.apply(lambda row: org_country_names(row['origin'].upper()), axis = 1)\n",
    "trade_cleaned['Dest_country']=trade_cleaned.apply(lambda row: org_country_names(row['dest'].upper()), axis = 1)"
   ]
  },
  {
   "cell_type": "code",
   "execution_count": 14,
   "metadata": {
    "scrolled": true
   },
   "outputs": [
    {
     "data": {
      "text/html": [
       "<div>\n",
       "<style>\n",
       "    .dataframe thead tr:only-child th {\n",
       "        text-align: right;\n",
       "    }\n",
       "\n",
       "    .dataframe thead th {\n",
       "        text-align: left;\n",
       "    }\n",
       "\n",
       "    .dataframe tbody tr th {\n",
       "        vertical-align: top;\n",
       "    }\n",
       "</style>\n",
       "<table border=\"1\" class=\"dataframe\">\n",
       "  <thead>\n",
       "    <tr style=\"text-align: right;\">\n",
       "      <th></th>\n",
       "      <th>year</th>\n",
       "      <th>origin</th>\n",
       "      <th>dest</th>\n",
       "      <th>hs07</th>\n",
       "      <th>export_val</th>\n",
       "      <th>import_val</th>\n",
       "      <th>Origin_country</th>\n",
       "      <th>Dest_country</th>\n",
       "    </tr>\n",
       "  </thead>\n",
       "  <tbody>\n",
       "    <tr>\n",
       "      <th>9173</th>\n",
       "      <td>2008</td>\n",
       "      <td>ago</td>\n",
       "      <td>usa</td>\n",
       "      <td>202</td>\n",
       "      <td>NaN</td>\n",
       "      <td>2471022.0</td>\n",
       "      <td>Angola</td>\n",
       "      <td>United States</td>\n",
       "    </tr>\n",
       "    <tr>\n",
       "      <th>9174</th>\n",
       "      <td>2008</td>\n",
       "      <td>ago</td>\n",
       "      <td>usa</td>\n",
       "      <td>203</td>\n",
       "      <td>NaN</td>\n",
       "      <td>2741730.0</td>\n",
       "      <td>Angola</td>\n",
       "      <td>United States</td>\n",
       "    </tr>\n",
       "    <tr>\n",
       "      <th>9175</th>\n",
       "      <td>2008</td>\n",
       "      <td>ago</td>\n",
       "      <td>usa</td>\n",
       "      <td>206</td>\n",
       "      <td>NaN</td>\n",
       "      <td>4842336.0</td>\n",
       "      <td>Angola</td>\n",
       "      <td>United States</td>\n",
       "    </tr>\n",
       "    <tr>\n",
       "      <th>9176</th>\n",
       "      <td>2008</td>\n",
       "      <td>ago</td>\n",
       "      <td>usa</td>\n",
       "      <td>207</td>\n",
       "      <td>NaN</td>\n",
       "      <td>109095046.0</td>\n",
       "      <td>Angola</td>\n",
       "      <td>United States</td>\n",
       "    </tr>\n",
       "    <tr>\n",
       "      <th>9177</th>\n",
       "      <td>2008</td>\n",
       "      <td>ago</td>\n",
       "      <td>usa</td>\n",
       "      <td>210</td>\n",
       "      <td>NaN</td>\n",
       "      <td>148422.0</td>\n",
       "      <td>Angola</td>\n",
       "      <td>United States</td>\n",
       "    </tr>\n",
       "  </tbody>\n",
       "</table>\n",
       "</div>"
      ],
      "text/plain": [
       "      year origin dest  hs07  export_val   import_val Origin_country  \\\n",
       "9173  2008    ago  usa   202         NaN    2471022.0         Angola   \n",
       "9174  2008    ago  usa   203         NaN    2741730.0         Angola   \n",
       "9175  2008    ago  usa   206         NaN    4842336.0         Angola   \n",
       "9176  2008    ago  usa   207         NaN  109095046.0         Angola   \n",
       "9177  2008    ago  usa   210         NaN     148422.0         Angola   \n",
       "\n",
       "       Dest_country  \n",
       "9173  United States  \n",
       "9174  United States  \n",
       "9175  United States  \n",
       "9176  United States  \n",
       "9177  United States  "
      ]
     },
     "execution_count": 14,
     "metadata": {},
     "output_type": "execute_result"
    }
   ],
   "source": [
    "trade_cleaned.head()"
   ]
  },
  {
   "cell_type": "markdown",
   "metadata": {},
   "source": [
    "### The invalid country codes are XXB, BLX, etc - ISO country codes to depict trade with individuals who are Stateless persons or persons with unspecified nationality "
   ]
  },
  {
   "cell_type": "code",
   "execution_count": 15,
   "metadata": {
    "collapsed": true
   },
   "outputs": [],
   "source": [
    "#Removing the rows with invalid country codes\n",
    "trade_cleaned=trade_cleaned[(trade_cleaned['Origin_country']!='Invalid code') & (trade_cleaned['Dest_country']!='Invalid code')]"
   ]
  },
  {
   "cell_type": "code",
   "execution_count": 17,
   "metadata": {},
   "outputs": [
    {
     "data": {
      "text/html": [
       "<div>\n",
       "<style>\n",
       "    .dataframe thead tr:only-child th {\n",
       "        text-align: right;\n",
       "    }\n",
       "\n",
       "    .dataframe thead th {\n",
       "        text-align: left;\n",
       "    }\n",
       "\n",
       "    .dataframe tbody tr th {\n",
       "        vertical-align: top;\n",
       "    }\n",
       "</style>\n",
       "<table border=\"1\" class=\"dataframe\">\n",
       "  <thead>\n",
       "    <tr style=\"text-align: right;\">\n",
       "      <th></th>\n",
       "      <th>year</th>\n",
       "      <th>origin</th>\n",
       "      <th>dest</th>\n",
       "      <th>hs07</th>\n",
       "      <th>export_val</th>\n",
       "      <th>import_val</th>\n",
       "      <th>Origin_country</th>\n",
       "      <th>Dest_country</th>\n",
       "    </tr>\n",
       "  </thead>\n",
       "  <tbody>\n",
       "    <tr>\n",
       "      <th>9173</th>\n",
       "      <td>2008</td>\n",
       "      <td>ago</td>\n",
       "      <td>usa</td>\n",
       "      <td>202</td>\n",
       "      <td>NaN</td>\n",
       "      <td>2471022.0</td>\n",
       "      <td>Angola</td>\n",
       "      <td>United States</td>\n",
       "    </tr>\n",
       "    <tr>\n",
       "      <th>9174</th>\n",
       "      <td>2008</td>\n",
       "      <td>ago</td>\n",
       "      <td>usa</td>\n",
       "      <td>203</td>\n",
       "      <td>NaN</td>\n",
       "      <td>2741730.0</td>\n",
       "      <td>Angola</td>\n",
       "      <td>United States</td>\n",
       "    </tr>\n",
       "    <tr>\n",
       "      <th>9175</th>\n",
       "      <td>2008</td>\n",
       "      <td>ago</td>\n",
       "      <td>usa</td>\n",
       "      <td>206</td>\n",
       "      <td>NaN</td>\n",
       "      <td>4842336.0</td>\n",
       "      <td>Angola</td>\n",
       "      <td>United States</td>\n",
       "    </tr>\n",
       "    <tr>\n",
       "      <th>9176</th>\n",
       "      <td>2008</td>\n",
       "      <td>ago</td>\n",
       "      <td>usa</td>\n",
       "      <td>207</td>\n",
       "      <td>NaN</td>\n",
       "      <td>109095046.0</td>\n",
       "      <td>Angola</td>\n",
       "      <td>United States</td>\n",
       "    </tr>\n",
       "    <tr>\n",
       "      <th>9177</th>\n",
       "      <td>2008</td>\n",
       "      <td>ago</td>\n",
       "      <td>usa</td>\n",
       "      <td>210</td>\n",
       "      <td>NaN</td>\n",
       "      <td>148422.0</td>\n",
       "      <td>Angola</td>\n",
       "      <td>United States</td>\n",
       "    </tr>\n",
       "  </tbody>\n",
       "</table>\n",
       "</div>"
      ],
      "text/plain": [
       "      year origin dest  hs07  export_val   import_val Origin_country  \\\n",
       "9173  2008    ago  usa   202         NaN    2471022.0         Angola   \n",
       "9174  2008    ago  usa   203         NaN    2741730.0         Angola   \n",
       "9175  2008    ago  usa   206         NaN    4842336.0         Angola   \n",
       "9176  2008    ago  usa   207         NaN  109095046.0         Angola   \n",
       "9177  2008    ago  usa   210         NaN     148422.0         Angola   \n",
       "\n",
       "       Dest_country  \n",
       "9173  United States  \n",
       "9174  United States  \n",
       "9175  United States  \n",
       "9176  United States  \n",
       "9177  United States  "
      ]
     },
     "execution_count": 17,
     "metadata": {},
     "output_type": "execute_result"
    }
   ],
   "source": [
    "trade_cleaned.head()"
   ]
  },
  {
   "cell_type": "markdown",
   "metadata": {},
   "source": [
    "### Filtering out years - 2014 to 2017\n",
    "Keeping only 4 years of data for the Map and Treemaps.\n",
    "To create the Maps we have to create a Union of the dataset, having a huge dataset would create processing problems so we filtered out only 4 years"
   ]
  },
  {
   "cell_type": "code",
   "execution_count": 5,
   "metadata": {
    "collapsed": true
   },
   "outputs": [],
   "source": [
    "trade_cleaned_filtered=trade_cleaned[trade_cleaned['year']>=2014]"
   ]
  },
  {
   "cell_type": "code",
   "execution_count": 19,
   "metadata": {
    "collapsed": true
   },
   "outputs": [],
   "source": [
    "trade_cleaned.to_csv(\"Trade_allyears.csv\",index=False,encoding='utf-8',columns=['year','Origin_country','Dest_country','hs07','export_val','import_val'])"
   ]
  },
  {
   "cell_type": "code",
   "execution_count": 29,
   "metadata": {
    "collapsed": true
   },
   "outputs": [],
   "source": [
    "trade_cleaned_filtered.to_csv(\"Trade_USA.csv\",index=False, encoding='utf-8',columns=['year','Origin_country','Dest_country','hs07','export_val','import_val'])"
   ]
  },
  {
   "cell_type": "markdown",
   "metadata": {
    "collapsed": true
   },
   "source": [
    "# HS codes dataset for Product categories"
   ]
  },
  {
   "cell_type": "code",
   "execution_count": 8,
   "metadata": {
    "collapsed": true
   },
   "outputs": [],
   "source": [
    "#Loading the dataset\n",
    "hscodes=pd.read_csv(\"products_hs_07.tsv\", sep=\"\\t\")"
   ]
  },
  {
   "cell_type": "code",
   "execution_count": 9,
   "metadata": {
    "scrolled": true
   },
   "outputs": [
    {
     "data": {
      "text/html": [
       "<div>\n",
       "<style>\n",
       "    .dataframe thead tr:only-child th {\n",
       "        text-align: right;\n",
       "    }\n",
       "\n",
       "    .dataframe thead th {\n",
       "        text-align: left;\n",
       "    }\n",
       "\n",
       "    .dataframe tbody tr th {\n",
       "        vertical-align: top;\n",
       "    }\n",
       "</style>\n",
       "<table border=\"1\" class=\"dataframe\">\n",
       "  <thead>\n",
       "    <tr style=\"text-align: right;\">\n",
       "      <th></th>\n",
       "      <th>id</th>\n",
       "      <th>hs07</th>\n",
       "      <th>name</th>\n",
       "    </tr>\n",
       "  </thead>\n",
       "  <tbody>\n",
       "    <tr>\n",
       "      <th>0</th>\n",
       "      <td>10101</td>\n",
       "      <td>101</td>\n",
       "      <td>Live horses, asses, mules and hinnies.</td>\n",
       "    </tr>\n",
       "    <tr>\n",
       "      <th>1</th>\n",
       "      <td>1010110</td>\n",
       "      <td>10110</td>\n",
       "      <td>Live horses/asses/mules/hinnies: pure-bred bre...</td>\n",
       "    </tr>\n",
       "    <tr>\n",
       "      <th>2</th>\n",
       "      <td>1010190</td>\n",
       "      <td>10190</td>\n",
       "      <td>Live horses/asses/mules/hinnies other than pur...</td>\n",
       "    </tr>\n",
       "    <tr>\n",
       "      <th>3</th>\n",
       "      <td>10102</td>\n",
       "      <td>102</td>\n",
       "      <td>Live bovine animals.</td>\n",
       "    </tr>\n",
       "    <tr>\n",
       "      <th>4</th>\n",
       "      <td>1010210</td>\n",
       "      <td>10210</td>\n",
       "      <td>Live bovine animals: pure-bred breeding animals</td>\n",
       "    </tr>\n",
       "  </tbody>\n",
       "</table>\n",
       "</div>"
      ],
      "text/plain": [
       "        id   hs07                                               name\n",
       "0    10101    101             Live horses, asses, mules and hinnies.\n",
       "1  1010110  10110  Live horses/asses/mules/hinnies: pure-bred bre...\n",
       "2  1010190  10190  Live horses/asses/mules/hinnies other than pur...\n",
       "3    10102    102                               Live bovine animals.\n",
       "4  1010210  10210    Live bovine animals: pure-bred breeding animals"
      ]
     },
     "execution_count": 9,
     "metadata": {},
     "output_type": "execute_result"
    }
   ],
   "source": [
    "hscodes.head()"
   ]
  },
  {
   "cell_type": "code",
   "execution_count": 10,
   "metadata": {
    "collapsed": true
   },
   "outputs": [],
   "source": [
    "#Converting the code to string \n",
    "hscodes['hs07'] = hscodes['hs07'].astype('str') "
   ]
  },
  {
   "cell_type": "code",
   "execution_count": 12,
   "metadata": {},
   "outputs": [
    {
     "data": {
      "text/plain": [
       "id       int64\n",
       "hs07    object\n",
       "name    object\n",
       "dtype: object"
      ]
     },
     "execution_count": 12,
     "metadata": {},
     "output_type": "execute_result"
    }
   ],
   "source": [
    "hscodes.dtypes"
   ]
  },
  {
   "cell_type": "markdown",
   "metadata": {},
   "source": [
    "The hscodes are an internaltional standard for product codes. The dataset had the product names and not the category, so we looked up the product category from this website: https://www.foreign-trade.com/reference/hscode.htm\n",
    "The product category is based on the first two digits of the HScode, which can be 2 digits(Category), 4 digits(Sub-category) or 6 digits(product name)."
   ]
  },
  {
   "cell_type": "code",
   "execution_count": 4,
   "metadata": {
    "collapsed": true
   },
   "outputs": [],
   "source": [
    "# Converting the hscodes to even number of digits, to get its product category\n",
    "def convert_hs(n):\n",
    "    if(len(n)%2 !=0):\n",
    "        return '0'+n\n",
    "    else: \n",
    "        return n\n"
   ]
  },
  {
   "cell_type": "code",
   "execution_count": 5,
   "metadata": {},
   "outputs": [
    {
     "name": "stdout",
     "output_type": "stream",
     "text": [
      "050191\n"
     ]
    }
   ],
   "source": [
    "#test\n",
    "print convert_hs('50191')"
   ]
  },
  {
   "cell_type": "code",
   "execution_count": 15,
   "metadata": {
    "collapsed": true
   },
   "outputs": [],
   "source": [
    "# Calling the function for the hscode at every row\n",
    "hscodes['hs07'] = hscodes.apply(lambda row: convert_hs(row['hs07']), axis=1)"
   ]
  },
  {
   "cell_type": "code",
   "execution_count": 16,
   "metadata": {},
   "outputs": [
    {
     "data": {
      "text/html": [
       "<div>\n",
       "<style>\n",
       "    .dataframe thead tr:only-child th {\n",
       "        text-align: right;\n",
       "    }\n",
       "\n",
       "    .dataframe thead th {\n",
       "        text-align: left;\n",
       "    }\n",
       "\n",
       "    .dataframe tbody tr th {\n",
       "        vertical-align: top;\n",
       "    }\n",
       "</style>\n",
       "<table border=\"1\" class=\"dataframe\">\n",
       "  <thead>\n",
       "    <tr style=\"text-align: right;\">\n",
       "      <th></th>\n",
       "      <th>id</th>\n",
       "      <th>hs07</th>\n",
       "      <th>name</th>\n",
       "    </tr>\n",
       "  </thead>\n",
       "  <tbody>\n",
       "    <tr>\n",
       "      <th>0</th>\n",
       "      <td>10101</td>\n",
       "      <td>0101</td>\n",
       "      <td>Live horses, asses, mules and hinnies.</td>\n",
       "    </tr>\n",
       "    <tr>\n",
       "      <th>1</th>\n",
       "      <td>1010110</td>\n",
       "      <td>010110</td>\n",
       "      <td>Live horses/asses/mules/hinnies: pure-bred bre...</td>\n",
       "    </tr>\n",
       "    <tr>\n",
       "      <th>2</th>\n",
       "      <td>1010190</td>\n",
       "      <td>010190</td>\n",
       "      <td>Live horses/asses/mules/hinnies other than pur...</td>\n",
       "    </tr>\n",
       "    <tr>\n",
       "      <th>3</th>\n",
       "      <td>10102</td>\n",
       "      <td>0102</td>\n",
       "      <td>Live bovine animals.</td>\n",
       "    </tr>\n",
       "    <tr>\n",
       "      <th>4</th>\n",
       "      <td>1010210</td>\n",
       "      <td>010210</td>\n",
       "      <td>Live bovine animals: pure-bred breeding animals</td>\n",
       "    </tr>\n",
       "  </tbody>\n",
       "</table>\n",
       "</div>"
      ],
      "text/plain": [
       "        id    hs07                                               name\n",
       "0    10101    0101             Live horses, asses, mules and hinnies.\n",
       "1  1010110  010110  Live horses/asses/mules/hinnies: pure-bred bre...\n",
       "2  1010190  010190  Live horses/asses/mules/hinnies other than pur...\n",
       "3    10102    0102                               Live bovine animals.\n",
       "4  1010210  010210    Live bovine animals: pure-bred breeding animals"
      ]
     },
     "execution_count": 16,
     "metadata": {},
     "output_type": "execute_result"
    }
   ],
   "source": [
    "hscodes.head()"
   ]
  },
  {
   "cell_type": "code",
   "execution_count": 39,
   "metadata": {
    "collapsed": true
   },
   "outputs": [],
   "source": [
    "# Function to get the Product category from the frist 2 digits of the hscode\n",
    "def get_category(code):\n",
    "    if(code[0:2] in ['01','02','03','04','05']):\n",
    "        return 'Animals and Animal products'\n",
    "    if(code[0:2] in ['06','07','08','09','10','11','12','13','14']):\n",
    "        return 'Vegetable products'\n",
    "    if(code[0:2] =='15'):\n",
    "        return 'Animal and Vegetable Fats and Oils'\n",
    "    if(code[0:2] in ['16','17','18','19','20','21','22','23','24']):\n",
    "        return 'Food Stuffs, Beverages and Tobacco'\n",
    "    if(code[0:2] in ['25','26','27']):\n",
    "        return 'Mineral Products'\n",
    "    if(code[0:2] in ['28','29','30','31','32','33','34','35','36','37','38']):\n",
    "        return 'Chemicals and Allied industries'\n",
    "    if(code[0:2] in ['39','40']):\n",
    "        return 'Plastic and Rubber'\n",
    "    if(code[0:2] in ['41','42','43']):\n",
    "        return 'Raw hide, Skin, Leather, Fur'\n",
    "    if(code[0:2] in ['44','45','46']):\n",
    "        return 'Wood and wood products'\n",
    "    if(code[0:2] in ['47','48','49']):\n",
    "        return 'Pulp of Wood and Fibrous Material'\n",
    "    if(code[0:2] in ['50','51','52','53','54','55','56','57','58','59','60','61','62','63']):\n",
    "        return 'Textiles'\n",
    "    if(code[0:2] in ['64','65','66','67']):\n",
    "        return 'Footwear and Headgear'\n",
    "    if(code[0:2] in ['68','69','70']):\n",
    "        return 'Stone and Glass'\n",
    "    if(code[0:2] == '71'):\n",
    "        return 'Precious Stone, Metal, Pearls and Coins'\n",
    "    if(code[0:2] in ['72','73','74','75','76','77','78','79','80','81','82','83']):\n",
    "        return 'Base metals'\n",
    "    if(code[0:2] in ['84','85']):\n",
    "        return 'Machinery or Electrical'\n",
    "    if(code[0:2] in ['86','87','88','89']):\n",
    "        return 'Transportation'\n",
    "    if(code[0:2] in ['90','91','92']):\n",
    "        return 'Precision instruments'\n",
    "    if(code[0:2] =='93'):\n",
    "        return 'Arms and Ammunition'\n",
    "    if(code[0:2] in ['94','95','96']):\n",
    "        return 'Miscellaneous'\n",
    "    if(code[0:2] =='97'):\n",
    "        return 'Works of Art'"
   ]
  },
  {
   "cell_type": "code",
   "execution_count": 40,
   "metadata": {},
   "outputs": [
    {
     "name": "stdout",
     "output_type": "stream",
     "text": [
      "Works of Art\n"
     ]
    }
   ],
   "source": [
    "#Test\n",
    "print get_category('97000')"
   ]
  },
  {
   "cell_type": "code",
   "execution_count": 41,
   "metadata": {
    "collapsed": true
   },
   "outputs": [],
   "source": [
    "# Calling the function to generate the Product category for the hscode at every row\n",
    "hscodes['category'] = hscodes.apply(lambda row: get_category(row['hs07']), axis=1)"
   ]
  },
  {
   "cell_type": "code",
   "execution_count": 42,
   "metadata": {},
   "outputs": [
    {
     "data": {
      "text/html": [
       "<div>\n",
       "<style>\n",
       "    .dataframe thead tr:only-child th {\n",
       "        text-align: right;\n",
       "    }\n",
       "\n",
       "    .dataframe thead th {\n",
       "        text-align: left;\n",
       "    }\n",
       "\n",
       "    .dataframe tbody tr th {\n",
       "        vertical-align: top;\n",
       "    }\n",
       "</style>\n",
       "<table border=\"1\" class=\"dataframe\">\n",
       "  <thead>\n",
       "    <tr style=\"text-align: right;\">\n",
       "      <th></th>\n",
       "      <th>id</th>\n",
       "      <th>hs07</th>\n",
       "      <th>name</th>\n",
       "      <th>category</th>\n",
       "    </tr>\n",
       "  </thead>\n",
       "  <tbody>\n",
       "    <tr>\n",
       "      <th>0</th>\n",
       "      <td>10101</td>\n",
       "      <td>0101</td>\n",
       "      <td>Live horses, asses, mules and hinnies.</td>\n",
       "      <td>Animals and Animal products</td>\n",
       "    </tr>\n",
       "    <tr>\n",
       "      <th>1</th>\n",
       "      <td>1010110</td>\n",
       "      <td>010110</td>\n",
       "      <td>Live horses/asses/mules/hinnies: pure-bred bre...</td>\n",
       "      <td>Animals and Animal products</td>\n",
       "    </tr>\n",
       "    <tr>\n",
       "      <th>2</th>\n",
       "      <td>1010190</td>\n",
       "      <td>010190</td>\n",
       "      <td>Live horses/asses/mules/hinnies other than pur...</td>\n",
       "      <td>Animals and Animal products</td>\n",
       "    </tr>\n",
       "    <tr>\n",
       "      <th>3</th>\n",
       "      <td>10102</td>\n",
       "      <td>0102</td>\n",
       "      <td>Live bovine animals.</td>\n",
       "      <td>Animals and Animal products</td>\n",
       "    </tr>\n",
       "    <tr>\n",
       "      <th>4</th>\n",
       "      <td>1010210</td>\n",
       "      <td>010210</td>\n",
       "      <td>Live bovine animals: pure-bred breeding animals</td>\n",
       "      <td>Animals and Animal products</td>\n",
       "    </tr>\n",
       "  </tbody>\n",
       "</table>\n",
       "</div>"
      ],
      "text/plain": [
       "        id    hs07                                               name  \\\n",
       "0    10101    0101             Live horses, asses, mules and hinnies.   \n",
       "1  1010110  010110  Live horses/asses/mules/hinnies: pure-bred bre...   \n",
       "2  1010190  010190  Live horses/asses/mules/hinnies other than pur...   \n",
       "3    10102    0102                               Live bovine animals.   \n",
       "4  1010210  010210    Live bovine animals: pure-bred breeding animals   \n",
       "\n",
       "                      category  \n",
       "0  Animals and Animal products  \n",
       "1  Animals and Animal products  \n",
       "2  Animals and Animal products  \n",
       "3  Animals and Animal products  \n",
       "4  Animals and Animal products  "
      ]
     },
     "execution_count": 42,
     "metadata": {},
     "output_type": "execute_result"
    }
   ],
   "source": [
    "hscodes.head()"
   ]
  },
  {
   "cell_type": "code",
   "execution_count": 43,
   "metadata": {
    "collapsed": true
   },
   "outputs": [],
   "source": [
    "#Writing the dataframe to a file\n",
    "hscodes.to_csv(\"ProductCodes.csv\",index=False)"
   ]
  },
  {
   "cell_type": "code",
   "execution_count": null,
   "metadata": {
    "collapsed": true
   },
   "outputs": [],
   "source": []
  }
 ],
 "metadata": {
  "kernelspec": {
   "display_name": "Python 2",
   "language": "python",
   "name": "python2"
  },
  "language_info": {
   "codemirror_mode": {
    "name": "ipython",
    "version": 2
   },
   "file_extension": ".py",
   "mimetype": "text/x-python",
   "name": "python",
   "nbconvert_exporter": "python",
   "pygments_lexer": "ipython2",
   "version": "2.7.14"
  }
 },
 "nbformat": 4,
 "nbformat_minor": 2
}
